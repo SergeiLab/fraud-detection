{
  "nbformat": 4,
  "nbformat_minor": 0,
  "metadata": {
    "colab": {
      "provenance": [],
      "authorship_tag": "ABX9TyPFzGRD5mb8mOTIpBN3wQBG",
      "include_colab_link": true
    },
    "kernelspec": {
      "name": "python3",
      "display_name": "Python 3"
    },
    "language_info": {
      "name": "python"
    }
  },
  "cells": [
    {
      "cell_type": "markdown",
      "metadata": {
        "id": "view-in-github",
        "colab_type": "text"
      },
      "source": [
        "<a href=\"https://colab.research.google.com/github/SergeiLab/fraud-detection/blob/main/fraud-detection.ipynb\" target=\"_parent\"><img src=\"https://colab.research.google.com/assets/colab-badge.svg\" alt=\"Open In Colab\"/></a>"
      ]
    },
    {
      "cell_type": "code",
      "source": [
        "import pandas as pd\n",
        "from catboost import CatBoostClassifier\n",
        "from sklearn.metrics import average_precision_score, f1_score\n",
        "import numpy as np\n",
        "\n",
        "# Загрузка\n",
        "train = pd.read_csv('train.csv')\n",
        "test = pd.read_csv('test_public.csv')\n",
        "\n",
        "# Дата и сортировка\n",
        "train['tx_datetime'] = pd.to_datetime(train['tx_datetime'])\n",
        "test['tx_datetime'] = pd.to_datetime(test['tx_datetime'])\n",
        "train = train.sort_values('tx_datetime').reset_index(drop=True)\n",
        "\n",
        "# risk_profile → числовой\n",
        "risk_map = {'low': 0, 'mid': 1, 'high': 2}\n",
        "train['risk_profile'] = train['risk_profile'].map(risk_map)\n",
        "test['risk_profile'] = test['risk_profile'].map(risk_map)\n",
        "\n",
        "# === Безопасная генерация признаков ===\n",
        "def safe_feature_engineering(df):\n",
        "    df = df.copy()\n",
        "    df['high_ratio_flag'] = (df['ratio_to_avg'] > 3).astype(int)\n",
        "    df['very_high_amount'] = (df['amount'] > df['avg_amount_7d'] * 5).astype(int)\n",
        "    df['suspicious_combo'] = (\n",
        "        (df['is_night'] == 1) &\n",
        "        (df['is_international'] == 1) &\n",
        "        (df['amount'] > df['amount'].quantile(0.9))\n",
        "    ).astype(int)\n",
        "    return df\n",
        "\n",
        "train = safe_feature_engineering(train)\n",
        "test = safe_feature_engineering(test)\n",
        "\n",
        "# === Хронологический сплит ===\n",
        "val_size = int(0.2 * len(train))\n",
        "train_part = train.iloc[:-val_size]\n",
        "val_part = train.iloc[-val_size:]\n",
        "\n",
        "# Подготовка\n",
        "drop_cols = ['tx_id', 'customer_id', 'tx_datetime', 'fraud']\n",
        "X_train = train_part.drop(columns=drop_cols)\n",
        "y_train = train_part['fraud']\n",
        "X_val = val_part.drop(columns=drop_cols)\n",
        "y_val = val_part['fraud']\n",
        "X_test = test.drop(columns=['tx_id', 'customer_id', 'tx_datetime'])\n",
        "\n",
        "# Категории\n",
        "cat_features = ['risk_profile', 'channel', 'mcc', 'country', 'home_country']\n",
        "\n",
        "# Обучение\n",
        "model = CatBoostClassifier(\n",
        "    iterations=1000,\n",
        "    learning_rate=0.03,\n",
        "    depth=6,\n",
        "    eval_metric='PRAUC',\n",
        "    auto_class_weights='Balanced',\n",
        "    random_seed=42,\n",
        "    early_stopping_rounds=50,\n",
        "    verbose=100\n",
        ")\n",
        "\n",
        "model.fit(\n",
        "    X_train, y_train,\n",
        "    eval_set=(X_val, y_val),\n",
        "    cat_features=cat_features,\n",
        "    use_best_model=True\n",
        ")\n",
        "\n",
        "# Предсказание (порог 0.5 пока оставим)\n",
        "y_val_proba = model.predict_proba(X_val)[:, 1]\n",
        "fraud_proba = y_val_proba[y_val == 1]\n",
        "\n",
        "if len(fraud_proba) > 0:\n",
        "    # Берём нижнюю границу: хотим ловить даже слабые сигналы\n",
        "    best_thr = np.percentile(fraud_proba, 20)  # или 10, 15\n",
        "else:\n",
        "    best_thr = 0.1\n",
        "\n",
        "print(f\"Using threshold: {best_thr:.4f}\")\n",
        "\n",
        "# Предсказание на тесте\n",
        "y_test_proba = model.predict_proba(X_test)[:, 1]\n",
        "y_pred = (y_test_proba >= best_thr).astype(int)\n",
        "\n",
        "# Сохранение\n",
        "pd.DataFrame({'tx_id': test['tx_id'], 'fraud': y_pred}).to_csv('submission_.csv', index=False)"
      ],
      "metadata": {
        "colab": {
          "base_uri": "https://localhost:8080/"
        },
        "id": "_V-WrnKHt8Nl",
        "outputId": "5307394d-8bda-4b2f-c2a7-355f341fe488"
      },
      "execution_count": 13,
      "outputs": [
        {
          "output_type": "stream",
          "name": "stdout",
          "text": [
            "0:\tlearn: 0.7294076\ttest: 0.6380773\tbest: 0.6380773 (0)\ttotal: 24.2ms\tremaining: 24.2s\n",
            "100:\tlearn: 0.8219848\ttest: 0.7384247\tbest: 0.7392419 (96)\ttotal: 1.61s\tremaining: 14.3s\n",
            "Stopped by overfitting detector  (50 iterations wait)\n",
            "\n",
            "bestTest = 0.7404435149\n",
            "bestIteration = 127\n",
            "\n",
            "Shrink model to first 128 iterations.\n",
            "Using threshold: 0.4329\n"
          ]
        }
      ]
    }
  ]
}